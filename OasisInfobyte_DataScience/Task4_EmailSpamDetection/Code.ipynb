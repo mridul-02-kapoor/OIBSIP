{
 "cells": [
  {
   "attachments": {},
   "cell_type": "markdown",
   "metadata": {},
   "source": [
    "                        ### OASIS INFOBYTE ###       \n",
    "        ### DATA SCIENCE INTERN ###   ### FEBRUARY 2023 ###\n",
    "    ### MRIDUL KAPOOR ###       ### mridul.kapoor2002@gmail.com ###\n",
    "            ### TASK-4 ###      ### EMAIL SPAM DETECTION ###"
   ]
  },
  {
   "cell_type": "code",
   "execution_count": 1,
   "metadata": {},
   "outputs": [],
   "source": [
    "#IMPORT MODULES AND LIBRARIES\n",
    "import numpy as np\n",
    "import pandas as pd\n",
    "import matplotlib.pyplot as plt\n",
    "import seaborn as sns\n",
    "import sklearn\n",
    "from sklearn.model_selection import train_test_split\n",
    "from sklearn.feature_extraction.text import TfidfVectorizer\n",
    "from sklearn.svm import LinearSVC\n",
    "from sklearn.metrics import accuracy_score"
   ]
  },
  {
   "cell_type": "code",
   "execution_count": 2,
   "metadata": {},
   "outputs": [],
   "source": [
    "#LOAD DATASET\n",
    "raw_mail_data = pd.read_csv(\"C:\\\\Users\\\\Mridul_Work\\\\Desktop\\\\OasisInfobyte_DataScience\\\\Task4_EmailSpamDetection\\\\spam.csv\",encoding=\"latin1\")\n",
    "mail_data = raw_mail_data.where((pd.notnull(raw_mail_data)), '')"
   ]
  },
  {
   "cell_type": "code",
   "execution_count": 3,
   "metadata": {},
   "outputs": [
    {
     "name": "stdout",
     "output_type": "stream",
     "text": [
      "MAIL  DATASET\n",
      "        v1                                                 v2 Unnamed: 2  \\\n",
      "0      ham  Go until jurong point, crazy.. Available only ...              \n",
      "1      ham                      Ok lar... Joking wif u oni...              \n",
      "2     spam  Free entry in 2 a wkly comp to win FA Cup fina...              \n",
      "3      ham  U dun say so early hor... U c already then say...              \n",
      "4      ham  Nah I don't think he goes to usf, he lives aro...              \n",
      "...    ...                                                ...        ...   \n",
      "5567  spam  This is the 2nd time we have tried 2 contact u...              \n",
      "5568   ham              Will Ì_ b going to esplanade fr home?              \n",
      "5569   ham  Pity, * was in mood for that. So...any other s...              \n",
      "5570   ham  The guy did some bitching but I acted like i'd...              \n",
      "5571   ham                         Rofl. Its true to its name              \n",
      "\n",
      "     Unnamed: 3 Unnamed: 4  \n",
      "0                           \n",
      "1                           \n",
      "2                           \n",
      "3                           \n",
      "4                           \n",
      "...         ...        ...  \n",
      "5567                        \n",
      "5568                        \n",
      "5569                        \n",
      "5570                        \n",
      "5571                        \n",
      "\n",
      "[5572 rows x 5 columns]\n",
      "\n",
      "DATASET INFO\n",
      "<class 'pandas.core.frame.DataFrame'>\n",
      "RangeIndex: 5572 entries, 0 to 5571\n",
      "Data columns (total 5 columns):\n",
      " #   Column      Non-Null Count  Dtype \n",
      "---  ------      --------------  ----- \n",
      " 0   v1          5572 non-null   object\n",
      " 1   v2          5572 non-null   object\n",
      " 2   Unnamed: 2  5572 non-null   object\n",
      " 3   Unnamed: 3  5572 non-null   object\n",
      " 4   Unnamed: 4  5572 non-null   object\n",
      "dtypes: object(5)\n",
      "memory usage: 217.8+ KB\n",
      "\n",
      "DATASET DESCRIBED\n"
     ]
    },
    {
     "data": {
      "text/html": [
       "<div>\n",
       "<style scoped>\n",
       "    .dataframe tbody tr th:only-of-type {\n",
       "        vertical-align: middle;\n",
       "    }\n",
       "\n",
       "    .dataframe tbody tr th {\n",
       "        vertical-align: top;\n",
       "    }\n",
       "\n",
       "    .dataframe thead th {\n",
       "        text-align: right;\n",
       "    }\n",
       "</style>\n",
       "<table border=\"1\" class=\"dataframe\">\n",
       "  <thead>\n",
       "    <tr style=\"text-align: right;\">\n",
       "      <th></th>\n",
       "      <th>v1</th>\n",
       "      <th>v2</th>\n",
       "      <th>Unnamed: 2</th>\n",
       "      <th>Unnamed: 3</th>\n",
       "      <th>Unnamed: 4</th>\n",
       "    </tr>\n",
       "  </thead>\n",
       "  <tbody>\n",
       "    <tr>\n",
       "      <th>count</th>\n",
       "      <td>5572</td>\n",
       "      <td>5572</td>\n",
       "      <td>5572</td>\n",
       "      <td>5572</td>\n",
       "      <td>5572</td>\n",
       "    </tr>\n",
       "    <tr>\n",
       "      <th>unique</th>\n",
       "      <td>2</td>\n",
       "      <td>5169</td>\n",
       "      <td>44</td>\n",
       "      <td>11</td>\n",
       "      <td>6</td>\n",
       "    </tr>\n",
       "    <tr>\n",
       "      <th>top</th>\n",
       "      <td>ham</td>\n",
       "      <td>Sorry, I'll call later</td>\n",
       "      <td></td>\n",
       "      <td></td>\n",
       "      <td></td>\n",
       "    </tr>\n",
       "    <tr>\n",
       "      <th>freq</th>\n",
       "      <td>4825</td>\n",
       "      <td>30</td>\n",
       "      <td>5522</td>\n",
       "      <td>5560</td>\n",
       "      <td>5566</td>\n",
       "    </tr>\n",
       "  </tbody>\n",
       "</table>\n",
       "</div>"
      ],
      "text/plain": [
       "          v1                      v2 Unnamed: 2 Unnamed: 3 Unnamed: 4\n",
       "count   5572                    5572       5572       5572       5572\n",
       "unique     2                    5169         44         11          6\n",
       "top      ham  Sorry, I'll call later                                 \n",
       "freq    4825                      30       5522       5560       5566"
      ]
     },
     "execution_count": 3,
     "metadata": {},
     "output_type": "execute_result"
    }
   ],
   "source": [
    "#PRINT DATASET\n",
    "print(\"MAIL  DATASET\".center(0))\n",
    "print(mail_data)\n",
    "\n",
    "print(\"\\nDATASET INFO\".center(0))\n",
    "mail_data.info()\n",
    "\n",
    "print(\"\\nDATASET DESCRIBED\".center(0))\n",
    "mail_data.describe()"
   ]
  },
  {
   "cell_type": "markdown",
   "metadata": {},
   "source": [
    "    #MODEL FORMATION\n"
   ]
  },
  {
   "cell_type": "code",
   "execution_count": 4,
   "metadata": {},
   "outputs": [],
   "source": [
    "#label spam -> 0 and ham -> 1\n",
    "mail_data.loc[mail_data['v1']=='spam', 'v1',] = 0\n",
    "mail_data.loc[mail_data['v1']=='ham', 'v1',] = 1"
   ]
  },
  {
   "cell_type": "code",
   "execution_count": 5,
   "metadata": {},
   "outputs": [
    {
     "name": "stdout",
     "output_type": "stream",
     "text": [
      "X-AXIS VALUES \n",
      " 0       Go until jurong point, crazy.. Available only ...\n",
      "1                           Ok lar... Joking wif u oni...\n",
      "2       Free entry in 2 a wkly comp to win FA Cup fina...\n",
      "3       U dun say so early hor... U c already then say...\n",
      "4       Nah I don't think he goes to usf, he lives aro...\n",
      "                              ...                        \n",
      "5567    This is the 2nd time we have tried 2 contact u...\n",
      "5568                Will Ì_ b going to esplanade fr home?\n",
      "5569    Pity, * was in mood for that. So...any other s...\n",
      "5570    The guy did some bitching but I acted like i'd...\n",
      "5571                           Rofl. Its true to its name\n",
      "Name: v2, Length: 5572, dtype: object\n",
      "\n",
      "Y-AXIS VALUES \n",
      " 0       1\n",
      "1       1\n",
      "2       0\n",
      "3       1\n",
      "4       1\n",
      "       ..\n",
      "5567    0\n",
      "5568    1\n",
      "5569    1\n",
      "5570    1\n",
      "5571    1\n",
      "Name: v1, Length: 5572, dtype: object\n"
     ]
    }
   ],
   "source": [
    "values = mail_data.values\n",
    "x = mail_data['v2']\n",
    "y = mail_data['v1']\n",
    "print(\"X-AXIS VALUES\",\"\\n\",x)\n",
    "print(\"\\nY-AXIS VALUES\",\"\\n\",y)"
   ]
  },
  {
   "cell_type": "code",
   "execution_count": 6,
   "metadata": {},
   "outputs": [
    {
     "name": "stdout",
     "output_type": "stream",
     "text": [
      "TRAINING SET FROM X-AXIS\n",
      " 1114    No no:)this is kallis home ground.amla home to...\n",
      "3589    I am in escape theatre now. . Going to watch K...\n",
      "3095    We walked from my moms. Right on stagwood pass...\n",
      "1012       I dunno they close oredi not... ÌÏ v ma fan...\n",
      "3320                               Yo im right by yo work\n",
      "                              ...                        \n",
      "4931                Match started.india  &lt;#&gt;  for 2\n",
      "3264    44 7732584351, Do you want a New Nokia 3510i c...\n",
      "1653    I was at bugis juz now wat... But now i'm walk...\n",
      "2607    :-) yeah! Lol. Luckily i didn't have a starrin...\n",
      "2732    How dare you stupid. I wont tell anything to y...\n",
      "Name: v2, Length: 4457, dtype: object\n",
      "\n",
      "TRAINING SET FROM Y-AXIS\n",
      " 1114    1\n",
      "3589    1\n",
      "3095    1\n",
      "1012    1\n",
      "3320    1\n",
      "       ..\n",
      "4931    1\n",
      "3264    0\n",
      "1653    1\n",
      "2607    1\n",
      "2732    1\n",
      "Name: v1, Length: 4457, dtype: int32\n",
      "\n",
      "TEST SET FROM X-AXIS\n",
      " 4456    Aight should I just plan to come up later toni...\n",
      "690                                    Was the farm open?\n",
      "944     I sent my scores to sophas and i had to do sec...\n",
      "3768    Was gr8 to see that message. So when r u leavi...\n",
      "1189    In that case I guess I'll see you at campus lodge\n",
      "                              ...                        \n",
      "2906                                               ALRITE\n",
      "1270    Sorry chikku, my cell got some problem thts y ...\n",
      "3944    I will be gentle princess! We will make sweet ...\n",
      "2124    Beautiful Truth against Gravity.. Read careful...\n",
      "253     Ups which is 3days also, and the shipping comp...\n",
      "Name: v2, Length: 1115, dtype: object\n",
      "\n",
      "TEST SET FROM Y-AXIS\n",
      " 4456    1\n",
      "690     1\n",
      "944     1\n",
      "3768    1\n",
      "1189    1\n",
      "       ..\n",
      "2906    1\n",
      "1270    1\n",
      "3944    1\n",
      "2124    1\n",
      "253     1\n",
      "Name: v1, Length: 1115, dtype: int32\n"
     ]
    }
   ],
   "source": [
    "#SPILITTING DATA INTO TRAINING AND TEST SET\n",
    "from sklearn.model_selection import train_test_split\n",
    "x_train, x_test, y_train, y_test = train_test_split(x, y, train_size=0.8, test_size=0.2, random_state=0)\n",
    "\n",
    "#convert the text to lower case letter\n",
    "feature_extraction = TfidfVectorizer(min_df = 1, stop_words = 'english', lowercase = True)\n",
    "x_train_features = feature_extraction.fit_transform(x_train)\n",
    "x_test_features = feature_extraction.transform(x_test)\n",
    "\n",
    "y_train = y_train.astype(\"int\")\n",
    "y_test = y_test.astype(\"int\")\n",
    "\n",
    "print(\"TRAINING SET FROM X-AXIS\\n\",x_train)\n",
    "print(\"\\nTRAINING SET FROM Y-AXIS\\n\",y_train)\n",
    "print(\"\\nTEST SET FROM X-AXIS\\n\",x_test)\n",
    "print(\"\\nTEST SET FROM Y-AXIS\\n\",y_test)"
   ]
  },
  {
   "cell_type": "code",
   "execution_count": 7,
   "metadata": {},
   "outputs": [
    {
     "data": {
      "text/html": [
       "<style>#sk-container-id-1 {color: black;background-color: white;}#sk-container-id-1 pre{padding: 0;}#sk-container-id-1 div.sk-toggleable {background-color: white;}#sk-container-id-1 label.sk-toggleable__label {cursor: pointer;display: block;width: 100%;margin-bottom: 0;padding: 0.3em;box-sizing: border-box;text-align: center;}#sk-container-id-1 label.sk-toggleable__label-arrow:before {content: \"▸\";float: left;margin-right: 0.25em;color: #696969;}#sk-container-id-1 label.sk-toggleable__label-arrow:hover:before {color: black;}#sk-container-id-1 div.sk-estimator:hover label.sk-toggleable__label-arrow:before {color: black;}#sk-container-id-1 div.sk-toggleable__content {max-height: 0;max-width: 0;overflow: hidden;text-align: left;background-color: #f0f8ff;}#sk-container-id-1 div.sk-toggleable__content pre {margin: 0.2em;color: black;border-radius: 0.25em;background-color: #f0f8ff;}#sk-container-id-1 input.sk-toggleable__control:checked~div.sk-toggleable__content {max-height: 200px;max-width: 100%;overflow: auto;}#sk-container-id-1 input.sk-toggleable__control:checked~label.sk-toggleable__label-arrow:before {content: \"▾\";}#sk-container-id-1 div.sk-estimator input.sk-toggleable__control:checked~label.sk-toggleable__label {background-color: #d4ebff;}#sk-container-id-1 div.sk-label input.sk-toggleable__control:checked~label.sk-toggleable__label {background-color: #d4ebff;}#sk-container-id-1 input.sk-hidden--visually {border: 0;clip: rect(1px 1px 1px 1px);clip: rect(1px, 1px, 1px, 1px);height: 1px;margin: -1px;overflow: hidden;padding: 0;position: absolute;width: 1px;}#sk-container-id-1 div.sk-estimator {font-family: monospace;background-color: #f0f8ff;border: 1px dotted black;border-radius: 0.25em;box-sizing: border-box;margin-bottom: 0.5em;}#sk-container-id-1 div.sk-estimator:hover {background-color: #d4ebff;}#sk-container-id-1 div.sk-parallel-item::after {content: \"\";width: 100%;border-bottom: 1px solid gray;flex-grow: 1;}#sk-container-id-1 div.sk-label:hover label.sk-toggleable__label {background-color: #d4ebff;}#sk-container-id-1 div.sk-serial::before {content: \"\";position: absolute;border-left: 1px solid gray;box-sizing: border-box;top: 0;bottom: 0;left: 50%;z-index: 0;}#sk-container-id-1 div.sk-serial {display: flex;flex-direction: column;align-items: center;background-color: white;padding-right: 0.2em;padding-left: 0.2em;position: relative;}#sk-container-id-1 div.sk-item {position: relative;z-index: 1;}#sk-container-id-1 div.sk-parallel {display: flex;align-items: stretch;justify-content: center;background-color: white;position: relative;}#sk-container-id-1 div.sk-item::before, #sk-container-id-1 div.sk-parallel-item::before {content: \"\";position: absolute;border-left: 1px solid gray;box-sizing: border-box;top: 0;bottom: 0;left: 50%;z-index: -1;}#sk-container-id-1 div.sk-parallel-item {display: flex;flex-direction: column;z-index: 1;position: relative;background-color: white;}#sk-container-id-1 div.sk-parallel-item:first-child::after {align-self: flex-end;width: 50%;}#sk-container-id-1 div.sk-parallel-item:last-child::after {align-self: flex-start;width: 50%;}#sk-container-id-1 div.sk-parallel-item:only-child::after {width: 0;}#sk-container-id-1 div.sk-dashed-wrapped {border: 1px dashed gray;margin: 0 0.4em 0.5em 0.4em;box-sizing: border-box;padding-bottom: 0.4em;background-color: white;}#sk-container-id-1 div.sk-label label {font-family: monospace;font-weight: bold;display: inline-block;line-height: 1.2em;}#sk-container-id-1 div.sk-label-container {text-align: center;}#sk-container-id-1 div.sk-container {/* jupyter's `normalize.less` sets `[hidden] { display: none; }` but bootstrap.min.css set `[hidden] { display: none !important; }` so we also need the `!important` here to be able to override the default hidden behavior on the sphinx rendered scikit-learn.org. See: https://github.com/scikit-learn/scikit-learn/issues/21755 */display: inline-block !important;position: relative;}#sk-container-id-1 div.sk-text-repr-fallback {display: none;}</style><div id=\"sk-container-id-1\" class=\"sk-top-container\"><div class=\"sk-text-repr-fallback\"><pre>LinearSVC()</pre><b>In a Jupyter environment, please rerun this cell to show the HTML representation or trust the notebook. <br />On GitHub, the HTML representation is unable to render, please try loading this page with nbviewer.org.</b></div><div class=\"sk-container\" hidden><div class=\"sk-item\"><div class=\"sk-estimator sk-toggleable\"><input class=\"sk-toggleable__control sk-hidden--visually\" id=\"sk-estimator-id-1\" type=\"checkbox\" checked><label for=\"sk-estimator-id-1\" class=\"sk-toggleable__label sk-toggleable__label-arrow\">LinearSVC</label><div class=\"sk-toggleable__content\"><pre>LinearSVC()</pre></div></div></div></div></div>"
      ],
      "text/plain": [
       "LinearSVC()"
      ]
     },
     "execution_count": 7,
     "metadata": {},
     "output_type": "execute_result"
    }
   ],
   "source": [
    "from sklearn.svm import SVC\n",
    "svc_model = LinearSVC()\n",
    "svc_model.fit(x_train_features, y_train)"
   ]
  },
  {
   "cell_type": "code",
   "execution_count": 8,
   "metadata": {},
   "outputs": [
    {
     "name": "stdout",
     "output_type": "stream",
     "text": [
      "X-AXIS \n",
      " 0       Go until jurong point, crazy.. Available only ...\n",
      "1                           Ok lar... Joking wif u oni...\n",
      "2       Free entry in 2 a wkly comp to win FA Cup fina...\n",
      "3       U dun say so early hor... U c already then say...\n",
      "4       Nah I don't think he goes to usf, he lives aro...\n",
      "                              ...                        \n",
      "5567    This is the 2nd time we have tried 2 contact u...\n",
      "5568                Will Ì_ b going to esplanade fr home?\n",
      "5569    Pity, * was in mood for that. So...any other s...\n",
      "5570    The guy did some bitching but I acted like i'd...\n",
      "5571                           Rofl. Its true to its name\n",
      "Name: v2, Length: 5572, dtype: object\n",
      "\n",
      "Y-AXIS \n",
      " 0       1\n",
      "1       1\n",
      "2       0\n",
      "3       1\n",
      "4       1\n",
      "       ..\n",
      "5567    0\n",
      "5568    1\n",
      "5569    1\n",
      "5570    1\n",
      "5571    1\n",
      "Name: v1, Length: 5572, dtype: object\n"
     ]
    }
   ],
   "source": [
    "#VISUALIZATION OF DATASET\n",
    "x = mail_data['v2']\n",
    "y = mail_data['v1']\n",
    "print(\"X-AXIS\",\"\\n\",x)\n",
    "print(\"\\nY-AXIS\",\"\\n\",y)"
   ]
  },
  {
   "cell_type": "code",
   "execution_count": 9,
   "metadata": {},
   "outputs": [
    {
     "name": "stdout",
     "output_type": "stream",
     "text": [
      "\n",
      "COUNT PLOT\n"
     ]
    },
    {
     "data": {
      "image/png": "[encoded data removed]",
      "text/plain": [
       "<Figure size 640x480 with 1 Axes>"
      ]
     },
     "metadata": {},
     "output_type": "display_data"
    },
    {
     "name": "stdout",
     "output_type": "stream",
     "text": [
      "\n",
      "PIE CHART\n"
     ]
    },
    {
     "data": {
      "image/png": "[encoded data removed]",
      "text/plain": [
       "<Figure size 640x480 with 1 Axes>"
      ]
     },
     "metadata": {},
     "output_type": "display_data"
    }
   ],
   "source": [
    "print(\"\\nCOUNT PLOT\")\n",
    "\n",
    "sns.countplot(x=mail_data[\"v1\"], data=mail_data, palette=\"OrRd\")\n",
    "\n",
    "plt.title(\"NUMBER OF SPAM AND HAM MESSAGES\")\n",
    "plt.grid(False)\n",
    "plt.show()\n",
    "\n",
    "print(\"\\nPIE CHART\")\n",
    "\n",
    "count_Class=pd.value_counts(mail_data.v1, sort= True)\n",
    "plt.title(\"SPAM AND HAM MESSAGES\\n\")\n",
    "labels = 'HAM', 'SPAM'\n",
    "sizes = [count_Class[0], count_Class[1]]\n",
    "explode = (0.05, 0.05)\n",
    "\n",
    "plt.pie(sizes, explode=explode, labels=labels,autopct='%1.1f%%')\n",
    "plt.show()"
   ]
  },
  {
   "cell_type": "code",
   "execution_count": 10,
   "metadata": {},
   "outputs": [
    {
     "name": "stdout",
     "output_type": "stream",
     "text": [
      "Accuracy on training data:  100.0\n"
     ]
    }
   ],
   "source": [
    "#EVALUATION OF MODEL\n",
    "#prediction of training data\n",
    "prediction_on_training_data = svc_model.predict(x_train_features)\n",
    "accuracy_on_training_data = accuracy_score(y_train, prediction_on_training_data)\n",
    "print(\"Accuracy on training data: \", accuracy_on_training_data*100)"
   ]
  },
  {
   "cell_type": "code",
   "execution_count": 11,
   "metadata": {},
   "outputs": [
    {
     "name": "stdout",
     "output_type": "stream",
     "text": [
      "Accuracy on test data:  98.38565022421525\n"
     ]
    }
   ],
   "source": [
    "#prediction on test data\n",
    "prediction_on_test_data = svc_model.predict(x_test_features)\n",
    "accuracy_on_test_data = accuracy_score(y_test, prediction_on_test_data)\n",
    "print(\"Accuracy on test data: \", accuracy_on_test_data*100)"
   ]
  },
  {
   "attachments": {},
   "cell_type": "markdown",
   "metadata": {},
   "source": [
    "END"
   ]
  }
 ],
 "metadata": {
  "kernelspec": {
   "display_name": "Python 3",
   "language": "python",
   "name": "python3"
  },
  "language_info": {
   "codemirror_mode": {
    "name": "ipython",
    "version": 3
   },
   "file_extension": ".py",
   "mimetype": "text/x-python",
   "name": "python",
   "nbconvert_exporter": "python",
   "pygments_lexer": "ipython3",
   "version": "3.11.0"
  },
  "orig_nbformat": 4
 },
 "nbformat": 4,
 "nbformat_minor": 2
}
